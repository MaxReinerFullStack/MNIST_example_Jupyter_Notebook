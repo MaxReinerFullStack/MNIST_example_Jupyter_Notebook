{
 "cells": [
  {
   "cell_type": "code",
   "execution_count": 1,
   "metadata": {},
   "outputs": [
    {
     "name": "stderr",
     "output_type": "stream",
     "text": [
      "Using TensorFlow backend.\n"
     ]
    }
   ],
   "source": [
    "import keras\n",
    "from keras.datasets import mnist\n",
    "from keras.models import Sequential\n",
    "from keras.layers import Dense, Dropout\n",
    "from keras.layers import Flatten,  MaxPooling2D, Conv2D\n",
    "from keras.callbacks import TensorBoard\n"
   ]
  },
  {
   "cell_type": "code",
   "execution_count": 2,
   "metadata": {},
   "outputs": [],
   "source": [
    "(X_train,y_train), (X_test, y_test) = mnist.load_data()\n",
    "\n",
    "X_train = X_train.reshape(60000,28,28,1).astype('float32')\n",
    "X_test = X_test.reshape(10000,28,28,1).astype('float32')\n",
    "\n",
    "X_train /= 255\n",
    "X_test /= 255\n",
    "\n",
    "n_classes = 10\n",
    "y_train = keras.utils.to_categorical(y_train, n_classes)\n",
    "y_test = keras.utils.to_categorical(y_test, n_classes)\n"
   ]
  },
  {
   "cell_type": "code",
   "execution_count": 3,
   "metadata": {},
   "outputs": [],
   "source": [
    "model = Sequential()\n",
    "model.add(Conv2D(32, kernel_size=(3,3), activation='relu', input_shape=(28,28,1)) )\n",
    "model.add(Conv2D(64, kernel_size=(3,3), activation='relu'))\n",
    "model.add(MaxPooling2D(pool_size=(2,2)))\n",
    "model.add(Dropout(0.25))\n",
    "model.add(Flatten())          \n",
    "model.add(Dense(128, activation='relu'))\n",
    "model.add(Dropout(0.5))\n",
    "model.add(Dense(n_classes, activation='softmax'))"
   ]
  },
  {
   "cell_type": "code",
   "execution_count": 4,
   "metadata": {},
   "outputs": [],
   "source": [
    "model.compile(loss='categorical_crossentropy', optimizer='adam', metrics=['accuracy'])\n"
   ]
  },
  {
   "cell_type": "code",
   "execution_count": 5,
   "metadata": {},
   "outputs": [],
   "source": [
    "tensor_board = TensorBoard('./logs/LeNet-MNIST-1')"
   ]
  },
  {
   "cell_type": "code",
   "execution_count": null,
   "metadata": {},
   "outputs": [
    {
     "name": "stdout",
     "output_type": "stream",
     "text": [
      "Train on 60000 samples, validate on 10000 samples\n",
      "Epoch 1/15\n",
      "60000/60000 [==============================] - 4s 75us/step - loss: 0.2388 - acc: 0.9274 - val_loss: 0.0504 - val_acc: 0.9840\n",
      "Epoch 2/15\n",
      "60000/60000 [==============================] - 3s 43us/step - loss: 0.0824 - acc: 0.9746 - val_loss: 0.0361 - val_acc: 0.9875\n",
      "Epoch 3/15\n",
      "60000/60000 [==============================] - 3s 43us/step - loss: 0.0644 - acc: 0.9811 - val_loss: 0.0340 - val_acc: 0.9873\n",
      "Epoch 4/15\n",
      "60000/60000 [==============================] - 3s 43us/step - loss: 0.0501 - acc: 0.9852 - val_loss: 0.0308 - val_acc: 0.9897\n",
      "Epoch 5/15\n",
      "60000/60000 [==============================] - 3s 43us/step - loss: 0.0438 - acc: 0.9866 - val_loss: 0.0275 - val_acc: 0.9914\n",
      "Epoch 6/15\n",
      "60000/60000 [==============================] - 3s 43us/step - loss: 0.0384 - acc: 0.9881 - val_loss: 0.0273 - val_acc: 0.9926\n",
      "Epoch 7/15\n",
      "60000/60000 [==============================] - 3s 44us/step - loss: 0.0349 - acc: 0.9890 - val_loss: 0.0266 - val_acc: 0.9923\n",
      "Epoch 8/15\n",
      "60000/60000 [==============================] - 3s 43us/step - loss: 0.0310 - acc: 0.9906 - val_loss: 0.0263 - val_acc: 0.9915\n",
      "Epoch 9/15\n",
      "60000/60000 [==============================] - 3s 43us/step - loss: 0.0289 - acc: 0.9904 - val_loss: 0.0272 - val_acc: 0.9921\n",
      "Epoch 10/15\n",
      " 1408/60000 [..............................] - ETA: 2s - loss: 0.0185 - acc: 0.9957"
     ]
    }
   ],
   "source": [
    "model.fit(X_train, y_train, batch_size=128, epochs=15, verbose=1,\n",
    "          validation_data=(X_test,y_test), callbacks=[tensor_board])"
   ]
  },
  {
   "cell_type": "code",
   "execution_count": null,
   "metadata": {},
   "outputs": [],
   "source": [
    "\n"
   ]
  },
  {
   "cell_type": "code",
   "execution_count": null,
   "metadata": {},
   "outputs": [],
   "source": []
  }
 ],
 "metadata": {
  "kernelspec": {
   "display_name": "TensorFlow-GPU",
   "language": "python",
   "name": "tf-gpu"
  },
  "language_info": {
   "codemirror_mode": {
    "name": "ipython",
    "version": 3
   },
   "file_extension": ".py",
   "mimetype": "text/x-python",
   "name": "python",
   "nbconvert_exporter": "python",
   "pygments_lexer": "ipython3",
   "version": "3.6.6"
  }
 },
 "nbformat": 4,
 "nbformat_minor": 2
}
